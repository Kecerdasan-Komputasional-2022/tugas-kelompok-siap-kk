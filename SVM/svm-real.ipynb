{
 "cells": [
  {
   "cell_type": "code",
   "execution_count": 1,
   "metadata": {},
   "outputs": [
    {
     "name": "stdout",
     "output_type": "stream",
     "text": [
      "./data/test.csv\n",
      "./data/train.csv\n"
     ]
    }
   ],
   "source": [
    "import numpy as np # linear algebra\n",
    "import pandas as pd # data processing, CSV file I/O (e.g. pd.read_csv)\n",
    "import matplotlib.pyplot as plt # for data visualization\n",
    "import seaborn as sns # for statistical data visualization\n",
    "%matplotlib inline\n",
    "\n",
    "#print file path that includes in certain directory\n",
    "import os\n",
    "for dirname, _, filenames in os.walk('./data'):\n",
    "    for filename in filenames:\n",
    "        print(os.path.join(dirname, filename))\n",
    "        \n",
    "import warnings\n",
    "warnings.filterwarnings('ignore')"
   ]
  },
  {
   "cell_type": "code",
   "execution_count": 2,
   "metadata": {},
   "outputs": [],
   "source": [
    "df_test = pd.read_csv(\"./data/test.csv\")"
   ]
  },
  {
   "cell_type": "code",
   "execution_count": 3,
   "metadata": {},
   "outputs": [],
   "source": [
    "df_train = pd.read_csv(\"./data/train.csv\")"
   ]
  },
  {
   "cell_type": "code",
   "execution_count": 4,
   "metadata": {},
   "outputs": [
    {
     "data": {
      "text/plain": [
       "(270, 16)"
      ]
     },
     "execution_count": 4,
     "metadata": {},
     "output_type": "execute_result"
    }
   ],
   "source": [
    "df_test.shape\n"
   ]
  },
  {
   "cell_type": "code",
   "execution_count": 5,
   "metadata": {},
   "outputs": [
    {
     "data": {
      "text/plain": [
       "(301, 17)"
      ]
     },
     "execution_count": 5,
     "metadata": {},
     "output_type": "execute_result"
    }
   ],
   "source": [
    "df_train.shape"
   ]
  },
  {
   "cell_type": "code",
   "execution_count": 6,
   "metadata": {},
   "outputs": [
    {
     "data": {
      "text/html": [
       "<div>\n",
       "<style scoped>\n",
       "    .dataframe tbody tr th:only-of-type {\n",
       "        vertical-align: middle;\n",
       "    }\n",
       "\n",
       "    .dataframe tbody tr th {\n",
       "        vertical-align: top;\n",
       "    }\n",
       "\n",
       "    .dataframe thead th {\n",
       "        text-align: right;\n",
       "    }\n",
       "</style>\n",
       "<table border=\"1\" class=\"dataframe\">\n",
       "  <thead>\n",
       "    <tr style=\"text-align: right;\">\n",
       "      <th></th>\n",
       "      <th>danceability</th>\n",
       "      <th>energy</th>\n",
       "      <th>key</th>\n",
       "      <th>loudness</th>\n",
       "      <th>mode</th>\n",
       "      <th>speechiness</th>\n",
       "      <th>acousticness</th>\n",
       "      <th>instrumentalness</th>\n",
       "      <th>liveness</th>\n",
       "      <th>valence</th>\n",
       "      <th>tempo</th>\n",
       "      <th>duration_ms</th>\n",
       "      <th>time_signature</th>\n",
       "      <th>title</th>\n",
       "      <th>first_artists</th>\n",
       "      <th>all_artists</th>\n",
       "      <th>like</th>\n",
       "    </tr>\n",
       "  </thead>\n",
       "  <tbody>\n",
       "    <tr>\n",
       "      <th>0</th>\n",
       "      <td>0.486</td>\n",
       "      <td>0.881</td>\n",
       "      <td>2</td>\n",
       "      <td>-5.623</td>\n",
       "      <td>0</td>\n",
       "      <td>0.0474</td>\n",
       "      <td>0.024400</td>\n",
       "      <td>0.000000</td>\n",
       "      <td>0.429</td>\n",
       "      <td>0.6670</td>\n",
       "      <td>144.997</td>\n",
       "      <td>480707</td>\n",
       "      <td>4</td>\n",
       "      <td>A Little Piece of Heaven</td>\n",
       "      <td>Avenged Sevenfold</td>\n",
       "      <td>['Avenged Sevenfold']</td>\n",
       "      <td>1</td>\n",
       "    </tr>\n",
       "    <tr>\n",
       "      <th>1</th>\n",
       "      <td>0.356</td>\n",
       "      <td>0.960</td>\n",
       "      <td>4</td>\n",
       "      <td>-3.487</td>\n",
       "      <td>1</td>\n",
       "      <td>0.1040</td>\n",
       "      <td>0.014200</td>\n",
       "      <td>0.000000</td>\n",
       "      <td>0.209</td>\n",
       "      <td>0.0857</td>\n",
       "      <td>125.921</td>\n",
       "      <td>204733</td>\n",
       "      <td>4</td>\n",
       "      <td>Helena</td>\n",
       "      <td>My Chemical Romance</td>\n",
       "      <td>['My Chemical Romance']</td>\n",
       "      <td>1</td>\n",
       "    </tr>\n",
       "    <tr>\n",
       "      <th>2</th>\n",
       "      <td>0.487</td>\n",
       "      <td>0.949</td>\n",
       "      <td>2</td>\n",
       "      <td>-4.217</td>\n",
       "      <td>0</td>\n",
       "      <td>0.0798</td>\n",
       "      <td>0.000429</td>\n",
       "      <td>0.000029</td>\n",
       "      <td>0.231</td>\n",
       "      <td>0.4060</td>\n",
       "      <td>110.020</td>\n",
       "      <td>352427</td>\n",
       "      <td>4</td>\n",
       "      <td>Afterlife</td>\n",
       "      <td>Avenged Sevenfold</td>\n",
       "      <td>['Avenged Sevenfold']</td>\n",
       "      <td>1</td>\n",
       "    </tr>\n",
       "    <tr>\n",
       "      <th>3</th>\n",
       "      <td>0.366</td>\n",
       "      <td>0.963</td>\n",
       "      <td>11</td>\n",
       "      <td>-5.301</td>\n",
       "      <td>0</td>\n",
       "      <td>0.1420</td>\n",
       "      <td>0.000273</td>\n",
       "      <td>0.012200</td>\n",
       "      <td>0.115</td>\n",
       "      <td>0.2110</td>\n",
       "      <td>137.114</td>\n",
       "      <td>366213</td>\n",
       "      <td>4</td>\n",
       "      <td>Knights of Cydonia</td>\n",
       "      <td>Muse</td>\n",
       "      <td>['Muse']</td>\n",
       "      <td>1</td>\n",
       "    </tr>\n",
       "    <tr>\n",
       "      <th>4</th>\n",
       "      <td>0.412</td>\n",
       "      <td>0.920</td>\n",
       "      <td>9</td>\n",
       "      <td>-4.852</td>\n",
       "      <td>0</td>\n",
       "      <td>0.0575</td>\n",
       "      <td>0.000456</td>\n",
       "      <td>0.002600</td>\n",
       "      <td>0.110</td>\n",
       "      <td>0.4550</td>\n",
       "      <td>93.162</td>\n",
       "      <td>227440</td>\n",
       "      <td>4</td>\n",
       "      <td>Hysteria</td>\n",
       "      <td>Muse</td>\n",
       "      <td>['Muse']</td>\n",
       "      <td>1</td>\n",
       "    </tr>\n",
       "  </tbody>\n",
       "</table>\n",
       "</div>"
      ],
      "text/plain": [
       "   danceability  energy  key  loudness  mode  speechiness  acousticness  \\\n",
       "0         0.486   0.881    2    -5.623     0       0.0474      0.024400   \n",
       "1         0.356   0.960    4    -3.487     1       0.1040      0.014200   \n",
       "2         0.487   0.949    2    -4.217     0       0.0798      0.000429   \n",
       "3         0.366   0.963   11    -5.301     0       0.1420      0.000273   \n",
       "4         0.412   0.920    9    -4.852     0       0.0575      0.000456   \n",
       "\n",
       "   instrumentalness  liveness  valence    tempo  duration_ms  time_signature  \\\n",
       "0          0.000000     0.429   0.6670  144.997       480707               4   \n",
       "1          0.000000     0.209   0.0857  125.921       204733               4   \n",
       "2          0.000029     0.231   0.4060  110.020       352427               4   \n",
       "3          0.012200     0.115   0.2110  137.114       366213               4   \n",
       "4          0.002600     0.110   0.4550   93.162       227440               4   \n",
       "\n",
       "                      title        first_artists              all_artists  \\\n",
       "0  A Little Piece of Heaven    Avenged Sevenfold    ['Avenged Sevenfold']   \n",
       "1                    Helena  My Chemical Romance  ['My Chemical Romance']   \n",
       "2                 Afterlife    Avenged Sevenfold    ['Avenged Sevenfold']   \n",
       "3        Knights of Cydonia                 Muse                 ['Muse']   \n",
       "4                  Hysteria                 Muse                 ['Muse']   \n",
       "\n",
       "   like  \n",
       "0     1  \n",
       "1     1  \n",
       "2     1  \n",
       "3     1  \n",
       "4     1  "
      ]
     },
     "execution_count": 6,
     "metadata": {},
     "output_type": "execute_result"
    }
   ],
   "source": [
    "df_train.head()"
   ]
  },
  {
   "cell_type": "code",
   "execution_count": 7,
   "metadata": {},
   "outputs": [
    {
     "data": {
      "text/html": [
       "<div>\n",
       "<style scoped>\n",
       "    .dataframe tbody tr th:only-of-type {\n",
       "        vertical-align: middle;\n",
       "    }\n",
       "\n",
       "    .dataframe tbody tr th {\n",
       "        vertical-align: top;\n",
       "    }\n",
       "\n",
       "    .dataframe thead th {\n",
       "        text-align: right;\n",
       "    }\n",
       "</style>\n",
       "<table border=\"1\" class=\"dataframe\">\n",
       "  <thead>\n",
       "    <tr style=\"text-align: right;\">\n",
       "      <th></th>\n",
       "      <th>danceability</th>\n",
       "      <th>energy</th>\n",
       "      <th>key</th>\n",
       "      <th>loudness</th>\n",
       "      <th>mode</th>\n",
       "      <th>speechiness</th>\n",
       "      <th>acousticness</th>\n",
       "      <th>instrumentalness</th>\n",
       "      <th>liveness</th>\n",
       "      <th>valence</th>\n",
       "      <th>tempo</th>\n",
       "      <th>duration_ms</th>\n",
       "      <th>time_signature</th>\n",
       "      <th>title</th>\n",
       "      <th>first_artists</th>\n",
       "      <th>all_artists</th>\n",
       "    </tr>\n",
       "  </thead>\n",
       "  <tbody>\n",
       "    <tr>\n",
       "      <th>0</th>\n",
       "      <td>0.586</td>\n",
       "      <td>0.616</td>\n",
       "      <td>5</td>\n",
       "      <td>-7.964</td>\n",
       "      <td>1</td>\n",
       "      <td>0.0324</td>\n",
       "      <td>0.1820</td>\n",
       "      <td>0.0</td>\n",
       "      <td>0.0927</td>\n",
       "      <td>0.719</td>\n",
       "      <td>148.088</td>\n",
       "      <td>242096</td>\n",
       "      <td>4</td>\n",
       "      <td>Leave The Door Open</td>\n",
       "      <td>Bruno Mars</td>\n",
       "      <td>['Bruno Mars', 'Anderson .Paak', 'Silk Sonic']</td>\n",
       "    </tr>\n",
       "    <tr>\n",
       "      <th>1</th>\n",
       "      <td>0.764</td>\n",
       "      <td>0.320</td>\n",
       "      <td>11</td>\n",
       "      <td>-7.209</td>\n",
       "      <td>1</td>\n",
       "      <td>0.0546</td>\n",
       "      <td>0.8370</td>\n",
       "      <td>0.0</td>\n",
       "      <td>0.0822</td>\n",
       "      <td>0.575</td>\n",
       "      <td>91.019</td>\n",
       "      <td>189486</td>\n",
       "      <td>4</td>\n",
       "      <td>Memories</td>\n",
       "      <td>Maroon 5</td>\n",
       "      <td>['Maroon 5']</td>\n",
       "    </tr>\n",
       "    <tr>\n",
       "      <th>2</th>\n",
       "      <td>0.806</td>\n",
       "      <td>0.546</td>\n",
       "      <td>9</td>\n",
       "      <td>-6.637</td>\n",
       "      <td>1</td>\n",
       "      <td>0.0575</td>\n",
       "      <td>0.3000</td>\n",
       "      <td>0.0</td>\n",
       "      <td>0.1020</td>\n",
       "      <td>0.874</td>\n",
       "      <td>147.986</td>\n",
       "      <td>212867</td>\n",
       "      <td>4</td>\n",
       "      <td>Intentions (feat. Quavo)</td>\n",
       "      <td>Justin Bieber</td>\n",
       "      <td>['Justin Bieber', 'Quavo']</td>\n",
       "    </tr>\n",
       "    <tr>\n",
       "      <th>3</th>\n",
       "      <td>0.597</td>\n",
       "      <td>0.450</td>\n",
       "      <td>8</td>\n",
       "      <td>-6.658</td>\n",
       "      <td>1</td>\n",
       "      <td>0.0418</td>\n",
       "      <td>0.2230</td>\n",
       "      <td>0.0</td>\n",
       "      <td>0.3820</td>\n",
       "      <td>0.537</td>\n",
       "      <td>178.765</td>\n",
       "      <td>228482</td>\n",
       "      <td>3</td>\n",
       "      <td>Stuck with U (with Justin Bieber)</td>\n",
       "      <td>Ariana Grande</td>\n",
       "      <td>['Ariana Grande', 'Justin Bieber']</td>\n",
       "    </tr>\n",
       "    <tr>\n",
       "      <th>4</th>\n",
       "      <td>0.606</td>\n",
       "      <td>0.799</td>\n",
       "      <td>9</td>\n",
       "      <td>-4.452</td>\n",
       "      <td>1</td>\n",
       "      <td>0.0261</td>\n",
       "      <td>0.0128</td>\n",
       "      <td>0.0</td>\n",
       "      <td>0.1500</td>\n",
       "      <td>0.638</td>\n",
       "      <td>103.014</td>\n",
       "      <td>232907</td>\n",
       "      <td>4</td>\n",
       "      <td>Make You Mine</td>\n",
       "      <td>PUBLIC</td>\n",
       "      <td>['PUBLIC']</td>\n",
       "    </tr>\n",
       "  </tbody>\n",
       "</table>\n",
       "</div>"
      ],
      "text/plain": [
       "   danceability  energy  key  loudness  mode  speechiness  acousticness  \\\n",
       "0         0.586   0.616    5    -7.964     1       0.0324        0.1820   \n",
       "1         0.764   0.320   11    -7.209     1       0.0546        0.8370   \n",
       "2         0.806   0.546    9    -6.637     1       0.0575        0.3000   \n",
       "3         0.597   0.450    8    -6.658     1       0.0418        0.2230   \n",
       "4         0.606   0.799    9    -4.452     1       0.0261        0.0128   \n",
       "\n",
       "   instrumentalness  liveness  valence    tempo  duration_ms  time_signature  \\\n",
       "0               0.0    0.0927    0.719  148.088       242096               4   \n",
       "1               0.0    0.0822    0.575   91.019       189486               4   \n",
       "2               0.0    0.1020    0.874  147.986       212867               4   \n",
       "3               0.0    0.3820    0.537  178.765       228482               3   \n",
       "4               0.0    0.1500    0.638  103.014       232907               4   \n",
       "\n",
       "                               title  first_artists  \\\n",
       "0                Leave The Door Open     Bruno Mars   \n",
       "1                           Memories       Maroon 5   \n",
       "2           Intentions (feat. Quavo)  Justin Bieber   \n",
       "3  Stuck with U (with Justin Bieber)  Ariana Grande   \n",
       "4                      Make You Mine         PUBLIC   \n",
       "\n",
       "                                      all_artists  \n",
       "0  ['Bruno Mars', 'Anderson .Paak', 'Silk Sonic']  \n",
       "1                                    ['Maroon 5']  \n",
       "2                      ['Justin Bieber', 'Quavo']  \n",
       "3              ['Ariana Grande', 'Justin Bieber']  \n",
       "4                                      ['PUBLIC']  "
      ]
     },
     "execution_count": 7,
     "metadata": {},
     "output_type": "execute_result"
    }
   ],
   "source": [
    "df_test.head()"
   ]
  },
  {
   "cell_type": "code",
   "execution_count": 8,
   "metadata": {},
   "outputs": [
    {
     "data": {
      "text/plain": [
       "1    189\n",
       "0    112\n",
       "Name: mode, dtype: int64"
      ]
     },
     "execution_count": 8,
     "metadata": {},
     "output_type": "execute_result"
    }
   ],
   "source": [
    "df_train['mode'].value_counts()"
   ]
  },
  {
   "cell_type": "code",
   "execution_count": 9,
   "metadata": {},
   "outputs": [
    {
     "data": {
      "text/plain": [
       "1    0.627907\n",
       "0    0.372093\n",
       "Name: mode, dtype: float64"
      ]
     },
     "execution_count": 9,
     "metadata": {},
     "output_type": "execute_result"
    }
   ],
   "source": [
    "df_train['mode'].value_counts()/np.float(len(df_train))"
   ]
  },
  {
   "cell_type": "code",
   "execution_count": 10,
   "metadata": {},
   "outputs": [
    {
     "name": "stdout",
     "output_type": "stream",
     "text": [
      "<class 'pandas.core.frame.DataFrame'>\n",
      "RangeIndex: 270 entries, 0 to 269\n",
      "Data columns (total 16 columns):\n",
      " #   Column            Non-Null Count  Dtype  \n",
      "---  ------            --------------  -----  \n",
      " 0   danceability      270 non-null    float64\n",
      " 1   energy            270 non-null    float64\n",
      " 2   key               270 non-null    int64  \n",
      " 3   loudness          270 non-null    float64\n",
      " 4   mode              270 non-null    int64  \n",
      " 5   speechiness       270 non-null    float64\n",
      " 6   acousticness      270 non-null    float64\n",
      " 7   instrumentalness  270 non-null    float64\n",
      " 8   liveness          270 non-null    float64\n",
      " 9   valence           270 non-null    float64\n",
      " 10  tempo             270 non-null    float64\n",
      " 11  duration_ms       270 non-null    int64  \n",
      " 12  time_signature    270 non-null    int64  \n",
      " 13  title             270 non-null    object \n",
      " 14  first_artists     270 non-null    object \n",
      " 15  all_artists       270 non-null    object \n",
      "dtypes: float64(9), int64(4), object(3)\n",
      "memory usage: 33.9+ KB\n"
     ]
    }
   ],
   "source": [
    "df_test.info()"
   ]
  },
  {
   "cell_type": "code",
   "execution_count": 11,
   "metadata": {},
   "outputs": [],
   "source": [
    "df_train = df_train.drop(['first_artists', 'title', 'all_artists', 'like'], axis = 1)"
   ]
  },
  {
   "cell_type": "code",
   "execution_count": 12,
   "metadata": {},
   "outputs": [],
   "source": [
    "df_test = df_test.drop(['first_artists', 'title', 'all_artists'], axis = 1)"
   ]
  },
  {
   "cell_type": "code",
   "execution_count": 13,
   "metadata": {},
   "outputs": [],
   "source": [
    "#we dropped mode because it's the target column\n",
    "\n",
    "X_test = df_test.drop(['mode'], axis=1)\n",
    "y_test = df_test['mode']\n",
    "\n",
    "\n"
   ]
  },
  {
   "cell_type": "code",
   "execution_count": 14,
   "metadata": {},
   "outputs": [],
   "source": [
    "X_train = df_train.drop(['mode'], axis=1)\n",
    "y_train = df_train['mode']"
   ]
  },
  {
   "cell_type": "code",
   "execution_count": 15,
   "metadata": {},
   "outputs": [
    {
     "data": {
      "text/plain": [
       "danceability        0\n",
       "energy              0\n",
       "key                 0\n",
       "loudness            0\n",
       "speechiness         0\n",
       "acousticness        0\n",
       "instrumentalness    0\n",
       "liveness            0\n",
       "valence             0\n",
       "tempo               0\n",
       "duration_ms         0\n",
       "time_signature      0\n",
       "dtype: int64"
      ]
     },
     "execution_count": 15,
     "metadata": {},
     "output_type": "execute_result"
    }
   ],
   "source": [
    "X_train.isnull().sum()"
   ]
  },
  {
   "cell_type": "code",
   "execution_count": 16,
   "metadata": {},
   "outputs": [
    {
     "data": {
      "text/plain": [
       "danceability        0\n",
       "energy              0\n",
       "key                 0\n",
       "loudness            0\n",
       "speechiness         0\n",
       "acousticness        0\n",
       "instrumentalness    0\n",
       "liveness            0\n",
       "valence             0\n",
       "tempo               0\n",
       "duration_ms         0\n",
       "time_signature      0\n",
       "dtype: int64"
      ]
     },
     "execution_count": 16,
     "metadata": {},
     "output_type": "execute_result"
    }
   ],
   "source": [
    "X_test.isnull().sum()"
   ]
  },
  {
   "cell_type": "code",
   "execution_count": 17,
   "metadata": {},
   "outputs": [],
   "source": [
    "cols = X_train.columns"
   ]
  },
  {
   "cell_type": "code",
   "execution_count": 18,
   "metadata": {},
   "outputs": [],
   "source": [
    "from sklearn.preprocessing import StandardScaler\n",
    "scaler = StandardScaler()\n",
    "X_train = scaler.fit_transform(X_train)\n",
    "X_test = scaler.fit_transform(X_test)"
   ]
  },
  {
   "cell_type": "code",
   "execution_count": 19,
   "metadata": {},
   "outputs": [],
   "source": [
    "X_train = pd.DataFrame(X_train, columns=[cols])"
   ]
  },
  {
   "cell_type": "code",
   "execution_count": 20,
   "metadata": {},
   "outputs": [],
   "source": [
    "X_test = pd.DataFrame(X_test, columns=[cols])"
   ]
  },
  {
   "cell_type": "code",
   "execution_count": 21,
   "metadata": {},
   "outputs": [
    {
     "data": {
      "text/html": [
       "<div>\n",
       "<style scoped>\n",
       "    .dataframe tbody tr th:only-of-type {\n",
       "        vertical-align: middle;\n",
       "    }\n",
       "\n",
       "    .dataframe tbody tr th {\n",
       "        vertical-align: top;\n",
       "    }\n",
       "\n",
       "    .dataframe thead tr th {\n",
       "        text-align: left;\n",
       "    }\n",
       "</style>\n",
       "<table border=\"1\" class=\"dataframe\">\n",
       "  <thead>\n",
       "    <tr>\n",
       "      <th></th>\n",
       "      <th>danceability</th>\n",
       "      <th>energy</th>\n",
       "      <th>key</th>\n",
       "      <th>loudness</th>\n",
       "      <th>speechiness</th>\n",
       "      <th>acousticness</th>\n",
       "      <th>instrumentalness</th>\n",
       "      <th>liveness</th>\n",
       "      <th>valence</th>\n",
       "      <th>tempo</th>\n",
       "      <th>duration_ms</th>\n",
       "      <th>time_signature</th>\n",
       "    </tr>\n",
       "  </thead>\n",
       "  <tbody>\n",
       "    <tr>\n",
       "      <th>0</th>\n",
       "      <td>-0.853006</td>\n",
       "      <td>0.945440</td>\n",
       "      <td>-0.883812</td>\n",
       "      <td>0.160325</td>\n",
       "      <td>-0.283350</td>\n",
       "      <td>-0.825305</td>\n",
       "      <td>-0.187882</td>\n",
       "      <td>1.613237</td>\n",
       "      <td>0.586601</td>\n",
       "      <td>0.764181</td>\n",
       "      <td>4.604155</td>\n",
       "      <td>0.183282</td>\n",
       "    </tr>\n",
       "    <tr>\n",
       "      <th>1</th>\n",
       "      <td>-1.804872</td>\n",
       "      <td>1.295501</td>\n",
       "      <td>-0.315984</td>\n",
       "      <td>0.744786</td>\n",
       "      <td>0.925140</td>\n",
       "      <td>-0.859691</td>\n",
       "      <td>-0.187882</td>\n",
       "      <td>0.072891</td>\n",
       "      <td>-1.969961</td>\n",
       "      <td>0.101689</td>\n",
       "      <td>-0.511263</td>\n",
       "      <td>0.183282</td>\n",
       "    </tr>\n",
       "    <tr>\n",
       "      <th>2</th>\n",
       "      <td>-0.845684</td>\n",
       "      <td>1.246758</td>\n",
       "      <td>-0.883812</td>\n",
       "      <td>0.545041</td>\n",
       "      <td>0.408436</td>\n",
       "      <td>-0.906117</td>\n",
       "      <td>-0.187473</td>\n",
       "      <td>0.226925</td>\n",
       "      <td>-0.561279</td>\n",
       "      <td>-0.450539</td>\n",
       "      <td>2.226374</td>\n",
       "      <td>0.183282</td>\n",
       "    </tr>\n",
       "    <tr>\n",
       "      <th>3</th>\n",
       "      <td>-1.731652</td>\n",
       "      <td>1.308794</td>\n",
       "      <td>1.671414</td>\n",
       "      <td>0.248432</td>\n",
       "      <td>1.736494</td>\n",
       "      <td>-0.906643</td>\n",
       "      <td>-0.016687</td>\n",
       "      <td>-0.585257</td>\n",
       "      <td>-1.418891</td>\n",
       "      <td>0.490412</td>\n",
       "      <td>2.481909</td>\n",
       "      <td>0.183282</td>\n",
       "    </tr>\n",
       "    <tr>\n",
       "      <th>4</th>\n",
       "      <td>-1.394838</td>\n",
       "      <td>1.118255</td>\n",
       "      <td>1.103586</td>\n",
       "      <td>0.371289</td>\n",
       "      <td>-0.067700</td>\n",
       "      <td>-0.906026</td>\n",
       "      <td>-0.151398</td>\n",
       "      <td>-0.620265</td>\n",
       "      <td>-0.345777</td>\n",
       "      <td>-1.036002</td>\n",
       "      <td>-0.090369</td>\n",
       "      <td>0.183282</td>\n",
       "    </tr>\n",
       "    <tr>\n",
       "      <th>...</th>\n",
       "      <td>...</td>\n",
       "      <td>...</td>\n",
       "      <td>...</td>\n",
       "      <td>...</td>\n",
       "      <td>...</td>\n",
       "      <td>...</td>\n",
       "      <td>...</td>\n",
       "      <td>...</td>\n",
       "      <td>...</td>\n",
       "      <td>...</td>\n",
       "      <td>...</td>\n",
       "      <td>...</td>\n",
       "    </tr>\n",
       "    <tr>\n",
       "      <th>296</th>\n",
       "      <td>-0.384395</td>\n",
       "      <td>0.834661</td>\n",
       "      <td>-1.167726</td>\n",
       "      <td>-1.258414</td>\n",
       "      <td>-0.430674</td>\n",
       "      <td>0.639838</td>\n",
       "      <td>7.052808</td>\n",
       "      <td>0.044884</td>\n",
       "      <td>1.888411</td>\n",
       "      <td>1.648940</td>\n",
       "      <td>0.626098</td>\n",
       "      <td>0.183282</td>\n",
       "    </tr>\n",
       "    <tr>\n",
       "      <th>297</th>\n",
       "      <td>-1.563245</td>\n",
       "      <td>0.356097</td>\n",
       "      <td>-0.315984</td>\n",
       "      <td>0.068935</td>\n",
       "      <td>-0.545972</td>\n",
       "      <td>-0.902709</td>\n",
       "      <td>-0.179546</td>\n",
       "      <td>3.181589</td>\n",
       "      <td>0.353506</td>\n",
       "      <td>1.046529</td>\n",
       "      <td>1.486255</td>\n",
       "      <td>0.183282</td>\n",
       "    </tr>\n",
       "    <tr>\n",
       "      <th>298</th>\n",
       "      <td>0.076894</td>\n",
       "      <td>-0.915644</td>\n",
       "      <td>-0.032070</td>\n",
       "      <td>-1.371968</td>\n",
       "      <td>-0.646324</td>\n",
       "      <td>0.130780</td>\n",
       "      <td>-0.186848</td>\n",
       "      <td>-0.627266</td>\n",
       "      <td>0.054442</td>\n",
       "      <td>0.346564</td>\n",
       "      <td>0.081885</td>\n",
       "      <td>0.183282</td>\n",
       "    </tr>\n",
       "    <tr>\n",
       "      <th>299</th>\n",
       "      <td>-0.362429</td>\n",
       "      <td>-2.032294</td>\n",
       "      <td>0.535758</td>\n",
       "      <td>-4.760253</td>\n",
       "      <td>-0.445620</td>\n",
       "      <td>0.410594</td>\n",
       "      <td>-0.186647</td>\n",
       "      <td>2.012326</td>\n",
       "      <td>-0.407349</td>\n",
       "      <td>0.809746</td>\n",
       "      <td>2.818706</td>\n",
       "      <td>0.183282</td>\n",
       "    </tr>\n",
       "    <tr>\n",
       "      <th>300</th>\n",
       "      <td>-1.680398</td>\n",
       "      <td>0.143401</td>\n",
       "      <td>0.251844</td>\n",
       "      <td>-0.019993</td>\n",
       "      <td>-0.456296</td>\n",
       "      <td>-0.906130</td>\n",
       "      <td>8.778786</td>\n",
       "      <td>2.103347</td>\n",
       "      <td>1.255098</td>\n",
       "      <td>1.146896</td>\n",
       "      <td>1.950152</td>\n",
       "      <td>0.183282</td>\n",
       "    </tr>\n",
       "  </tbody>\n",
       "</table>\n",
       "<p>301 rows × 12 columns</p>\n",
       "</div>"
      ],
      "text/plain": [
       "    danceability    energy       key  loudness speechiness acousticness  \\\n",
       "0      -0.853006  0.945440 -0.883812  0.160325   -0.283350    -0.825305   \n",
       "1      -1.804872  1.295501 -0.315984  0.744786    0.925140    -0.859691   \n",
       "2      -0.845684  1.246758 -0.883812  0.545041    0.408436    -0.906117   \n",
       "3      -1.731652  1.308794  1.671414  0.248432    1.736494    -0.906643   \n",
       "4      -1.394838  1.118255  1.103586  0.371289   -0.067700    -0.906026   \n",
       "..           ...       ...       ...       ...         ...          ...   \n",
       "296    -0.384395  0.834661 -1.167726 -1.258414   -0.430674     0.639838   \n",
       "297    -1.563245  0.356097 -0.315984  0.068935   -0.545972    -0.902709   \n",
       "298     0.076894 -0.915644 -0.032070 -1.371968   -0.646324     0.130780   \n",
       "299    -0.362429 -2.032294  0.535758 -4.760253   -0.445620     0.410594   \n",
       "300    -1.680398  0.143401  0.251844 -0.019993   -0.456296    -0.906130   \n",
       "\n",
       "    instrumentalness  liveness   valence     tempo duration_ms time_signature  \n",
       "0          -0.187882  1.613237  0.586601  0.764181    4.604155       0.183282  \n",
       "1          -0.187882  0.072891 -1.969961  0.101689   -0.511263       0.183282  \n",
       "2          -0.187473  0.226925 -0.561279 -0.450539    2.226374       0.183282  \n",
       "3          -0.016687 -0.585257 -1.418891  0.490412    2.481909       0.183282  \n",
       "4          -0.151398 -0.620265 -0.345777 -1.036002   -0.090369       0.183282  \n",
       "..               ...       ...       ...       ...         ...            ...  \n",
       "296         7.052808  0.044884  1.888411  1.648940    0.626098       0.183282  \n",
       "297        -0.179546  3.181589  0.353506  1.046529    1.486255       0.183282  \n",
       "298        -0.186848 -0.627266  0.054442  0.346564    0.081885       0.183282  \n",
       "299        -0.186647  2.012326 -0.407349  0.809746    2.818706       0.183282  \n",
       "300         8.778786  2.103347  1.255098  1.146896    1.950152       0.183282  \n",
       "\n",
       "[301 rows x 12 columns]"
      ]
     },
     "execution_count": 21,
     "metadata": {},
     "output_type": "execute_result"
    }
   ],
   "source": [
    "X_train"
   ]
  },
  {
   "cell_type": "code",
   "execution_count": 22,
   "metadata": {},
   "outputs": [
    {
     "name": "stdout",
     "output_type": "stream",
     "text": [
      "Model accuracy score with default hyperparameters: 0.7111\n"
     ]
    }
   ],
   "source": [
    "#import svm from sklearn\n",
    "from sklearn.svm import SVC\n",
    "#import metrics to measure accuracy\n",
    "from sklearn.metrics import accuracy_score\n",
    "\n",
    "svc= SVC()\n",
    "\n",
    "#fit training data into classifier\n",
    "svc.fit(X_train, y_train)\n",
    "\n",
    "#make prediction on test set\n",
    "y_pred = svc.predict(X_test)\n",
    "\n",
    "# compute and print accuracy score\n",
    "print('Model accuracy score with default hyperparameters: {0:0.4f}'. format(accuracy_score(y_test, y_pred)))"
   ]
  },
  {
   "cell_type": "code",
   "execution_count": 23,
   "metadata": {},
   "outputs": [
    {
     "name": "stdout",
     "output_type": "stream",
     "text": [
      "Model accuracy score with rbf kernel and C=100.0 : 0.6704\n"
     ]
    }
   ],
   "source": [
    "#Run SVM with rbf kernel and C=100\n",
    "\n",
    "svc=SVC(C=100.0) \n",
    "\n",
    "\n",
    "# fit classifier to training set\n",
    "svc.fit(X_train,y_train)\n",
    "\n",
    "\n",
    "# make predictions on test set\n",
    "y_pred=svc.predict(X_test)\n",
    "\n",
    "\n",
    "# compute and print accuracy score\n",
    "print('Model accuracy score with rbf kernel and C=100.0 : {0:0.4f}'. format(accuracy_score(y_test, y_pred)))"
   ]
  },
  {
   "cell_type": "code",
   "execution_count": 24,
   "metadata": {},
   "outputs": [
    {
     "name": "stdout",
     "output_type": "stream",
     "text": [
      "Model accuracy score with rbf kernel and C=1000.0 : 0.6667\n"
     ]
    }
   ],
   "source": [
    "#Run SVM with rbf kernel and C=1000\n",
    "\n",
    "# instantiate classifier with rbf kernel and C=1000\n",
    "svc=SVC(C=1000.0) \n",
    "\n",
    "\n",
    "# fit classifier to training set\n",
    "svc.fit(X_train,y_train)\n",
    "\n",
    "\n",
    "# make predictions on test set\n",
    "y_pred=svc.predict(X_test)\n",
    "\n",
    "\n",
    "# compute and print accuracy score\n",
    "print('Model accuracy score with rbf kernel and C=1000.0 : {0:0.4f}'. format(accuracy_score(y_test, y_pred)))"
   ]
  },
  {
   "cell_type": "code",
   "execution_count": 25,
   "metadata": {},
   "outputs": [
    {
     "name": "stdout",
     "output_type": "stream",
     "text": [
      "Model accuracy score with linear kernel and C=1.0 : 0.6667\n"
     ]
    }
   ],
   "source": [
    "#Run SVM with linear kernel and C=1\n",
    "\n",
    "# instantiate classifier with linear kernel and C=1.0\n",
    "\n",
    "# import metrics to compute accuracy\n",
    "from sklearn.metrics import accuracy_score\n",
    "linear_svc=SVC(kernel='linear', C=1.0) \n",
    "\n",
    "\n",
    "# fit classifier to training set\n",
    "linear_svc.fit(X_train,y_train)\n",
    "\n",
    "\n",
    "# make predictions on test set\n",
    "y_pred_test=linear_svc.predict(X_test)\n",
    "\n",
    "\n",
    "# compute and print accuracy score\n",
    "print('Model accuracy score with linear kernel and C=1.0 : {0:0.4f}'. format(accuracy_score(y_test, y_pred_test)))"
   ]
  },
  {
   "cell_type": "code",
   "execution_count": 26,
   "metadata": {},
   "outputs": [
    {
     "name": "stdout",
     "output_type": "stream",
     "text": [
      "Model accuracy score with linear kernel and C=100.0 : 0.6704\n"
     ]
    }
   ],
   "source": [
    "#Run SVM with linear kernel and C=100\n",
    "# instantiate classifier with linear kernel and C=100.0\n",
    "linear_svc100=SVC(kernel='linear', C=100.0) \n",
    "\n",
    "\n",
    "# fit classifier to training set\n",
    "linear_svc100.fit(X_train, y_train)\n",
    "\n",
    "\n",
    "# make predictions on test set\n",
    "y_pred=linear_svc100.predict(X_test)\n",
    "\n",
    "\n",
    "# compute and print accuracy score\n",
    "print('Model accuracy score with linear kernel and C=100.0 : {0:0.4f}'. format(accuracy_score(y_test, y_pred)))"
   ]
  },
  {
   "cell_type": "code",
   "execution_count": 27,
   "metadata": {},
   "outputs": [
    {
     "name": "stdout",
     "output_type": "stream",
     "text": [
      "Model accuracy score with linear kernel and C=1000.0 : 0.6704\n"
     ]
    }
   ],
   "source": [
    "#Run SVM with linear kernel and C=1000\n",
    "\n",
    "# instantiate classifier with linear kernel and C=1000.0\n",
    "linear_svc1000=SVC(kernel='linear', C=1000.0) \n",
    "\n",
    "\n",
    "# fit classifier to training set\n",
    "linear_svc1000.fit(X_train, y_train)\n",
    "\n",
    "\n",
    "# make predictions on test set\n",
    "y_pred=linear_svc1000.predict(X_test)\n",
    "\n",
    "\n",
    "# compute and print accuracy score\n",
    "print('Model accuracy score with linear kernel and C=1000.0 : {0:0.4f}'. format(accuracy_score(y_test, y_pred)))"
   ]
  },
  {
   "cell_type": "code",
   "execution_count": 28,
   "metadata": {},
   "outputs": [
    {
     "data": {
      "text/plain": [
       "array([0, 1, 0, 0, 1, 1, 1, 1, 1, 0, 1, 1, 1, 1, 1, 1, 1, 1, 1, 1, 1, 1,\n",
       "       1, 1, 0, 1, 1, 1, 1, 0, 1, 0, 0, 1, 1, 1, 1, 1, 1, 1, 1, 1, 1, 1,\n",
       "       1, 1, 1, 1, 1, 1, 1, 1, 1, 1, 1, 1, 1, 1, 1, 1, 1, 1, 1, 1, 1, 1,\n",
       "       1, 1, 1, 1, 1, 1, 1, 1, 1, 1, 1, 1, 1, 1, 1, 1, 1, 1, 1, 1, 1, 1,\n",
       "       1, 1, 1, 1, 1, 1, 1, 1, 1, 1, 1, 1, 1, 1, 1, 1, 1, 1, 1, 1, 1, 1,\n",
       "       1, 1, 1, 1, 0, 1, 1, 1, 1, 1, 1, 1, 0, 1, 1, 1, 0, 1, 0, 1, 0, 1,\n",
       "       1, 1, 1, 1, 1, 1, 1, 1, 0, 1, 0, 1, 1, 1, 1, 1, 1, 1, 0, 0, 1, 1,\n",
       "       1, 1, 1, 1, 1, 1, 1, 1, 1, 1, 1, 1, 0, 1, 1, 0, 1, 0, 0, 1, 1, 0,\n",
       "       1, 0, 1, 1, 1, 1, 1, 1, 1, 1, 1, 1, 1, 1, 1, 1, 0, 1, 1, 1, 1, 1,\n",
       "       1, 1, 1, 1, 1, 1, 1, 0, 1, 1, 1, 0, 1, 1, 1, 1, 1, 1, 0, 1, 1, 1,\n",
       "       1, 1, 1, 1, 1, 1, 1, 1, 1, 1, 1, 1, 1, 1, 1, 1, 1, 1, 1, 1, 1, 1,\n",
       "       1, 1, 1, 1, 1, 1, 1, 1, 1, 0, 0, 0, 1, 0, 0, 0, 0, 0, 0, 1, 0, 0,\n",
       "       1, 1, 0, 0, 1, 1, 1, 1, 0, 0, 0, 0, 1, 1, 0, 1, 0, 1, 0, 0, 1, 0,\n",
       "       0, 0, 1, 0, 0, 0, 0, 0, 1, 1, 1, 1, 1, 0, 1])"
      ]
     },
     "execution_count": 28,
     "metadata": {},
     "output_type": "execute_result"
    }
   ],
   "source": [
    "y_pred_train = linear_svc.predict(X_train)\n",
    "\n",
    "y_pred_train"
   ]
  },
  {
   "cell_type": "code",
   "execution_count": 29,
   "metadata": {},
   "outputs": [
    {
     "name": "stdout",
     "output_type": "stream",
     "text": [
      "Training-set accuracy score: 0.7176\n"
     ]
    }
   ],
   "source": [
    "print('Training-set accuracy score: {0:0.4f}'. format(accuracy_score(y_train, y_pred_train)))"
   ]
  },
  {
   "cell_type": "code",
   "execution_count": 30,
   "metadata": {},
   "outputs": [
    {
     "name": "stdout",
     "output_type": "stream",
     "text": [
      "Training set score: 0.7176\n",
      "Test set score: 0.6667\n"
     ]
    }
   ],
   "source": [
    "# print the scores on training and test set\n",
    "\n",
    "print('Training set score: {:.4f}'.format(linear_svc.score(X_train, y_train)))\n",
    "\n",
    "print('Test set score: {:.4f}'.format(linear_svc.score(X_test, y_test)))"
   ]
  },
  {
   "cell_type": "code",
   "execution_count": 31,
   "metadata": {},
   "outputs": [
    {
     "name": "stdout",
     "output_type": "stream",
     "text": [
      "Model accuracy score with polynomial kernel and C=1.0 : 0.7593\n"
     ]
    }
   ],
   "source": [
    "#Run SVM with polynomial kernel and C=1.0\n",
    "# instantiate classifier with polynomial kernel and C=1.0\n",
    "poly_svc=SVC(kernel='poly', C=1.0) \n",
    "\n",
    "\n",
    "# fit classifier to training set\n",
    "poly_svc.fit(X_train,y_train)\n",
    "\n",
    "\n",
    "# make predictions on test set\n",
    "y_pred=poly_svc.predict(X_test)\n",
    "\n",
    "\n",
    "# compute and print accuracy score\n",
    "print('Model accuracy score with polynomial kernel and C=1.0 : {0:0.4f}'. format(accuracy_score(y_test, y_pred)))"
   ]
  },
  {
   "cell_type": "code",
   "execution_count": 32,
   "metadata": {},
   "outputs": [
    {
     "name": "stdout",
     "output_type": "stream",
     "text": [
      "Model accuracy score with polynomial kernel and C=100.0 : 0.6741\n"
     ]
    }
   ],
   "source": [
    "#Run SVM with polynomial kernel and C=100.0\n",
    "# instantiate classifier with polynomial kernel and C=100.0\n",
    "poly_svc100=SVC(kernel='poly', C=100.0) \n",
    "\n",
    "\n",
    "# fit classifier to training set\n",
    "poly_svc100.fit(X_train, y_train)\n",
    "\n",
    "\n",
    "# make predictions on test set\n",
    "y_pred=poly_svc100.predict(X_test)\n",
    "\n",
    "\n",
    "# compute and print accuracy score\n",
    "print('Model accuracy score with polynomial kernel and C=100.0 : {0:0.4f}'. format(accuracy_score(y_test, y_pred)))"
   ]
  },
  {
   "cell_type": "code",
   "execution_count": 33,
   "metadata": {},
   "outputs": [
    {
     "name": "stdout",
     "output_type": "stream",
     "text": [
      "Model accuracy score with sigmoid kernel and C=1.0 : 0.6296\n"
     ]
    }
   ],
   "source": [
    "#Run SVM with sigmoid kernel and C=1.0\n",
    "# instantiate classifier with sigmoid kernel and C=1.0\n",
    "sigmoid_svc=SVC(kernel='sigmoid', C=1.0) \n",
    "\n",
    "\n",
    "# fit classifier to training set\n",
    "sigmoid_svc.fit(X_train,y_train)\n",
    "\n",
    "\n",
    "# make predictions on test set\n",
    "y_pred=sigmoid_svc.predict(X_test)\n",
    "\n",
    "\n",
    "# compute and print accuracy score\n",
    "print('Model accuracy score with sigmoid kernel and C=1.0 : {0:0.4f}'. format(accuracy_score(y_test, y_pred)))"
   ]
  },
  {
   "cell_type": "code",
   "execution_count": 34,
   "metadata": {},
   "outputs": [
    {
     "name": "stdout",
     "output_type": "stream",
     "text": [
      "Model accuracy score with sigmoid kernel and C=100.0 : 0.4370\n"
     ]
    }
   ],
   "source": [
    "#Run SVM with sigmoid kernel and C=100.0\n",
    "# instantiate classifier with sigmoid kernel and C=100.0\n",
    "sigmoid_svc100=SVC(kernel='sigmoid', C=100.0) \n",
    "\n",
    "\n",
    "# fit classifier to training set\n",
    "sigmoid_svc100.fit(X_train,y_train)\n",
    "\n",
    "\n",
    "# make predictions on test set\n",
    "y_pred=sigmoid_svc100.predict(X_test)\n",
    "\n",
    "\n",
    "# compute and print accuracy score\n",
    "print('Model accuracy score with sigmoid kernel and C=100.0 : {0:0.4f}'. format(accuracy_score(y_test, y_pred)))"
   ]
  },
  {
   "cell_type": "code",
   "execution_count": 35,
   "metadata": {},
   "outputs": [
    {
     "name": "stdout",
     "output_type": "stream",
     "text": [
      "Confusion matrix\n",
      "\n",
      " [[ 14  49]\n",
      " [ 41 166]]\n",
      "\n",
      "True Positives(TP) =  14\n",
      "\n",
      "True Negatives(TN) =  166\n",
      "\n",
      "False Positives(FP) =  49\n",
      "\n",
      "False Negatives(FN) =  41\n"
     ]
    }
   ],
   "source": [
    "# Print the Confusion Matrix and slice it into four pieces\n",
    "\n",
    "from sklearn.metrics import confusion_matrix\n",
    "\n",
    "cm = confusion_matrix(y_test, y_pred_test)\n",
    "\n",
    "print('Confusion matrix\\n\\n', cm)\n",
    "\n",
    "print('\\nTrue Positives(TP) = ', cm[0,0])\n",
    "\n",
    "print('\\nTrue Negatives(TN) = ', cm[1,1])\n",
    "\n",
    "print('\\nFalse Positives(FP) = ', cm[0,1])\n",
    "\n",
    "print('\\nFalse Negatives(FN) = ', cm[1,0])"
   ]
  },
  {
   "cell_type": "code",
   "execution_count": 36,
   "metadata": {},
   "outputs": [
    {
     "data": {
      "text/plain": [
       "<AxesSubplot:>"
      ]
     },
     "execution_count": 36,
     "metadata": {},
     "output_type": "execute_result"
    },
    {
     "data": {
      "image/png": "[encoded data removed]",
      "text/plain": [
       "<Figure size 432x288 with 2 Axes>"
      ]
     },
     "metadata": {
      "needs_background": "light"
     },
     "output_type": "display_data"
    }
   ],
   "source": [
    "# visualize confusion matrix with seaborn heatmap\n",
    "\n",
    "cm_matrix = pd.DataFrame(data=cm, columns=['Actual Positive:1', 'Actual Negative:0'], \n",
    "                                 index=['Predict Positive:1', 'Predict Negative:0'])\n",
    "\n",
    "sns.heatmap(cm_matrix, annot=True, fmt='d', cmap='YlGnBu')"
   ]
  },
  {
   "cell_type": "code",
   "execution_count": 37,
   "metadata": {},
   "outputs": [
    {
     "name": "stdout",
     "output_type": "stream",
     "text": [
      "              precision    recall  f1-score   support\n",
      "\n",
      "           0       0.25      0.22      0.24        63\n",
      "           1       0.77      0.80      0.79       207\n",
      "\n",
      "    accuracy                           0.67       270\n",
      "   macro avg       0.51      0.51      0.51       270\n",
      "weighted avg       0.65      0.67      0.66       270\n",
      "\n"
     ]
    }
   ],
   "source": [
    "from sklearn.metrics import classification_report\n",
    "\n",
    "print(classification_report(y_test, y_pred_test))"
   ]
  },
  {
   "cell_type": "code",
   "execution_count": 38,
   "metadata": {},
   "outputs": [],
   "source": [
    "TP = cm[0,0]\n",
    "TN = cm[1,1]\n",
    "FP = cm[0,1]\n",
    "FN = cm[1,0]"
   ]
  },
  {
   "cell_type": "code",
   "execution_count": 39,
   "metadata": {},
   "outputs": [
    {
     "name": "stdout",
     "output_type": "stream",
     "text": [
      "Classification accuracy : 0.6667\n"
     ]
    }
   ],
   "source": [
    "# print classification accuracy\n",
    "\n",
    "classification_accuracy = (TP + TN) / float(TP + TN + FP + FN)\n",
    "\n",
    "print('Classification accuracy : {0:0.4f}'.format(classification_accuracy))"
   ]
  },
  {
   "cell_type": "code",
   "execution_count": 40,
   "metadata": {},
   "outputs": [
    {
     "name": "stdout",
     "output_type": "stream",
     "text": [
      "Classification error : 0.3333\n"
     ]
    }
   ],
   "source": [
    "# print classification error\n",
    "\n",
    "classification_error = (FP + FN) / float(TP + TN + FP + FN)\n",
    "\n",
    "print('Classification error : {0:0.4f}'.format(classification_error))"
   ]
  },
  {
   "cell_type": "code",
   "execution_count": 41,
   "metadata": {},
   "outputs": [
    {
     "name": "stdout",
     "output_type": "stream",
     "text": [
      "Precision : 0.2222\n"
     ]
    }
   ],
   "source": [
    "# print precision score\n",
    "\n",
    "precision = TP / float(TP + FP)\n",
    "\n",
    "\n",
    "print('Precision : {0:0.4f}'.format(precision))"
   ]
  },
  {
   "cell_type": "code",
   "execution_count": 42,
   "metadata": {},
   "outputs": [
    {
     "name": "stdout",
     "output_type": "stream",
     "text": [
      "Recall or Sensitivity : 0.2545\n"
     ]
    }
   ],
   "source": [
    "recall = TP / float(TP + FN)\n",
    "\n",
    "print('Recall or Sensitivity : {0:0.4f}'.format(recall))"
   ]
  },
  {
   "cell_type": "code",
   "execution_count": 43,
   "metadata": {},
   "outputs": [
    {
     "name": "stdout",
     "output_type": "stream",
     "text": [
      "True Positive Rate : 0.2545\n"
     ]
    }
   ],
   "source": [
    "true_positive_rate = TP / float(TP + FN)\n",
    "\n",
    "\n",
    "print('True Positive Rate : {0:0.4f}'.format(true_positive_rate))"
   ]
  },
  {
   "cell_type": "code",
   "execution_count": 44,
   "metadata": {},
   "outputs": [
    {
     "name": "stdout",
     "output_type": "stream",
     "text": [
      "False Positive Rate : 0.2279\n"
     ]
    }
   ],
   "source": [
    "false_positive_rate = FP / float(FP + TN)\n",
    "\n",
    "\n",
    "print('False Positive Rate : {0:0.4f}'.format(false_positive_rate))"
   ]
  },
  {
   "cell_type": "code",
   "execution_count": 45,
   "metadata": {},
   "outputs": [
    {
     "name": "stdout",
     "output_type": "stream",
     "text": [
      "Specificity : 0.7721\n"
     ]
    }
   ],
   "source": [
    "specificity = TN / (TN + FP)\n",
    "\n",
    "print('Specificity : {0:0.4f}'.format(specificity))"
   ]
  },
  {
   "cell_type": "code",
   "execution_count": null,
   "metadata": {},
   "outputs": [],
   "source": []
  }
 ],
 "metadata": {
  "kernelspec": {
   "display_name": "Python 3.9.7 ('base')",
   "language": "python",
   "name": "python3"
  },
  "language_info": {
   "codemirror_mode": {
    "name": "ipython",
    "version": 3
   },
   "file_extension": ".py",
   "mimetype": "text/x-python",
   "name": "python",
   "nbconvert_exporter": "python",
   "pygments_lexer": "ipython3",
   "version": "3.9.7"
  },
  "orig_nbformat": 4,
  "vscode": {
   "interpreter": {
    "hash": "651c3b7b3f466eb030aa737f279c846be4db9cba49a2f229278cab5e41121ed5"
   }
  }
 },
 "nbformat": 4,
 "nbformat_minor": 2
}
